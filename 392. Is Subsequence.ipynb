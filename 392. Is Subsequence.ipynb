{
 "cells": [
  {
   "cell_type": "code",
   "execution_count": null,
   "id": "7e98bfa6-2d7a-4885-a6ac-02e7c43277f7",
   "metadata": {},
   "outputs": [],
   "source": [
    "def isSubsequence(s, t):\n",
    "    i, k = 0, 0\n",
    "    map = {}\n",
    "    temp = 0\n",
    "    while k < len(t):\n",
    "        sub_char = s[i]\n",
    "        if t[k] == sub_char:\n",
    "            i += 1\n",
    "            map[sub_char] = k\n",
    "        k + 1\n",
    "    # for n in map.values():\n",
    "    return map or False\n",
    "        \n",
    "s = \"abc\"\n",
    "t = \"ahbgdc\"\n",
    "\n",
    "a = isSubsequence(s, t)\n",
    "a"
   ]
  },
  {
   "cell_type": "code",
   "execution_count": null,
   "id": "b4be1420-66f1-4888-9401-786c16b104c6",
   "metadata": {},
   "outputs": [],
   "source": [
    "# a = {x: i for i, x in enumerate(\"abc\")}\n",
    "# a"
   ]
  },
  {
   "cell_type": "code",
   "execution_count": null,
   "id": "1e70da5e-fa70-4178-bbc4-50b7c451f366",
   "metadata": {},
   "outputs": [],
   "source": [
    "# Input: s = \"abc\", t = \"ahbgdc\"\n",
    "# Output: true\n",
    "True or False"
   ]
  },
  {
   "cell_type": "code",
   "execution_count": null,
   "id": "d45e533b-d19e-4364-830d-ee15b79d5502",
   "metadata": {},
   "outputs": [],
   "source": []
  }
 ],
 "metadata": {
  "kernelspec": {
   "display_name": "Python 3 (ipykernel)",
   "language": "python",
   "name": "python3"
  },
  "language_info": {
   "codemirror_mode": {
    "name": "ipython",
    "version": 3
   },
   "file_extension": ".py",
   "mimetype": "text/x-python",
   "name": "python",
   "nbconvert_exporter": "python",
   "pygments_lexer": "ipython3",
   "version": "3.11.4"
  }
 },
 "nbformat": 4,
 "nbformat_minor": 5
}
