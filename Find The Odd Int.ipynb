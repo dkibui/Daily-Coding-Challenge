{
 "cells": [
  {
   "cell_type": "markdown",
   "id": "45731099-ddae-458b-9d4f-ef09e9e960bf",
   "metadata": {},
   "source": [
    "Given an array of integers, find the one that appears an odd number of times.\r\n",
    "\r\n",
    "There will always be only one integer that appears an odd number of times.\r\n",
    "\r\n",
    "Examples\r\n",
    "1. [7] should return 7, because it occurs 1 time (which is odd).\r\n",
    "2. [0] should return 0, because it occurs 1 time (which is odd).\r\n",
    "3. [1,1,2] should return 2, because it occurs 1 time (which is odd).\r\n",
    "4. [0,1,0,1,0] should return 0, because it occurs 3 times (which is odd).\r\n",
    "5. [1,2,2,3,3,3,4,3,3,3,2,2,1] should return 4, because it appears 1 time (which\n",
    "    is odd). odd).\r\n",
    "``` is odd)."
   ]
  },
  {
   "cell_type": "code",
   "execution_count": 11,
   "id": "a32f40a6-6edc-4e38-a1be-17c61a8a6c46",
   "metadata": {},
   "outputs": [
    {
     "data": {
      "text/plain": [
       "[-1]"
      ]
     },
     "execution_count": 11,
     "metadata": {},
     "output_type": "execute_result"
    }
   ],
   "source": [
    "def find_it(seq):\n",
    "    map = {}\n",
    "    for n in seq:\n",
    "        map[n] = map.get(n, 0) + 1\n",
    "    return [x[0] for x in map.items() if x[1] % 2] or None\n",
    "\n",
    "seq = [1,1,2,-2,5,2,4,4,-1,-2,5]\n",
    "a = find_it(seq)\n",
    "a"
   ]
  },
  {
   "cell_type": "code",
   "execution_count": null,
   "id": "3b700104-a4c5-46e2-bc82-8f9f234c12e9",
   "metadata": {},
   "outputs": [],
   "source": []
  }
 ],
 "metadata": {
  "kernelspec": {
   "display_name": "Python 3 (ipykernel)",
   "language": "python",
   "name": "python3"
  },
  "language_info": {
   "codemirror_mode": {
    "name": "ipython",
    "version": 3
   },
   "file_extension": ".py",
   "mimetype": "text/x-python",
   "name": "python",
   "nbconvert_exporter": "python",
   "pygments_lexer": "ipython3",
   "version": "3.11.4"
  }
 },
 "nbformat": 4,
 "nbformat_minor": 5
}
