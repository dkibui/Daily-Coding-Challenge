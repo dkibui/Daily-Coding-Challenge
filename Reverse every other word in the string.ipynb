{
 "cells": [
  {
   "cell_type": "markdown",
   "id": "e43f0f67-04d0-4b83-88f0-d25f9309bb9c",
   "metadata": {},
   "source": [
    "Reverse every other word in a given string, then return the string. Throw away any leading or trailing whitespace, while ensuring there is exactly one space between each word. Punctuation marks should be treated as if they are a part of the word in this kata."
   ]
  },
  {
   "cell_type": "code",
   "execution_count": 12,
   "id": "b60ff5f2-46ea-40fe-9666-19b0fbadab6d",
   "metadata": {},
   "outputs": [
    {
     "data": {
      "text/plain": [
       "'Did ti work?'"
      ]
     },
     "execution_count": 12,
     "metadata": {},
     "output_type": "execute_result"
    }
   ],
   "source": [
    "def reverse_alternate(s):\n",
    "    s = s.split()\n",
    "    for i, word in enumerate(s.copy()):\n",
    "        if i % 2:\n",
    "            s[i] = word[::-1]\n",
    "    return \" \".join(s)\n",
    "\n",
    "a = reverse_alternate(\"Did it work?\")\n",
    "a"
   ]
  },
  {
   "cell_type": "code",
   "execution_count": 13,
   "id": "6c88ce0c-4fa6-4f08-9fe3-d5ce2b83f41e",
   "metadata": {},
   "outputs": [
    {
     "data": {
      "text/plain": [
       "'Did ti work?'"
      ]
     },
     "execution_count": 13,
     "metadata": {},
     "output_type": "execute_result"
    }
   ],
   "source": [
    "def reverse_alternate(string):\n",
    "    return \" \".join(y[::-1] if x%2 else y for x,y in enumerate(string.split()))\n",
    "\n",
    "a = reverse_alternate(\"Did it work?\")\n",
    "a"
   ]
  },
  {
   "cell_type": "code",
   "execution_count": null,
   "id": "98cb6ebd-de3f-4751-8636-80f1f694d5b4",
   "metadata": {},
   "outputs": [],
   "source": []
  }
 ],
 "metadata": {
  "kernelspec": {
   "display_name": "Python 3 (ipykernel)",
   "language": "python",
   "name": "python3"
  },
  "language_info": {
   "codemirror_mode": {
    "name": "ipython",
    "version": 3
   },
   "file_extension": ".py",
   "mimetype": "text/x-python",
   "name": "python",
   "nbconvert_exporter": "python",
   "pygments_lexer": "ipython3",
   "version": "3.11.4"
  }
 },
 "nbformat": 4,
 "nbformat_minor": 5
}
