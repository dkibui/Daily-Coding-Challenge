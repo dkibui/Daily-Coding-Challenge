{
 "cells": [
  {
   "cell_type": "code",
   "execution_count": 11,
   "id": "631f6826-f1a0-4d9d-b435-b6b1f970a198",
   "metadata": {},
   "outputs": [
    {
     "data": {
      "text/plain": [
       "{6: ['l'], 3: ['e', 'h', 'o']}"
      ]
     },
     "execution_count": 11,
     "metadata": {},
     "output_type": "execute_result"
    }
   ],
   "source": [
    "def get_char_count(s):\n",
    "    s = s.lower()\n",
    "    chars = \"abcdefghijklmnopqrstuvwxyz0123456789\"\n",
    "    map = {}\n",
    "    for char in set(s):\n",
    "        if char not in chars:\n",
    "            continue\n",
    "        occurences = s.count(char)\n",
    "        if map.get(occurences):\n",
    "            map[occurences].append(char)\n",
    "        else:\n",
    "            map[occurences] = [char]\n",
    "    key = lambda x:map[x]\n",
    "    map = {k:sorted(map[k]) for k in map}\n",
    "    return map\n",
    "\n",
    "a = get_char_count(\"Hello. Hello? HELLO!\")\n",
    "a"
   ]
  },
  {
   "cell_type": "code",
   "execution_count": 6,
   "id": "830e4f9c-2730-4521-9fc3-cfb58fdd7824",
   "metadata": {},
   "outputs": [
    {
     "data": {
      "text/plain": [
       "['M', 'i', 'i', 'i', 'i', 'p', 'p', 's', 's', 's', 's']"
      ]
     },
     "execution_count": 6,
     "metadata": {},
     "output_type": "execute_result"
    }
   ],
   "source": [
    "a = \"Mississippi\"\n",
    "b = sorted(a)\n",
    "b"
   ]
  },
  {
   "cell_type": "code",
   "execution_count": 13,
   "id": "2b62bb20-1362-45b9-b427-1335c80ec4d0",
   "metadata": {},
   "outputs": [
    {
     "data": {
      "text/plain": [
       "'0123456789'"
      ]
     },
     "execution_count": 13,
     "metadata": {},
     "output_type": "execute_result"
    }
   ],
   "source": [
    "import string\n",
    "string.digits"
   ]
  },
  {
   "cell_type": "code",
   "execution_count": null,
   "id": "ff2bed8d-7fe1-484c-84ce-381ae0d87002",
   "metadata": {},
   "outputs": [],
   "source": []
  },
  {
   "cell_type": "code",
   "execution_count": null,
   "id": "50ddb40a-16b1-4445-a547-cd1a471d2004",
   "metadata": {},
   "outputs": [],
   "source": []
  }
 ],
 "metadata": {
  "kernelspec": {
   "display_name": "Python 3 (ipykernel)",
   "language": "python",
   "name": "python3"
  },
  "language_info": {
   "codemirror_mode": {
    "name": "ipython",
    "version": 3
   },
   "file_extension": ".py",
   "mimetype": "text/x-python",
   "name": "python",
   "nbconvert_exporter": "python",
   "pygments_lexer": "ipython3",
   "version": "3.11.4"
  }
 },
 "nbformat": 4,
 "nbformat_minor": 5
}
