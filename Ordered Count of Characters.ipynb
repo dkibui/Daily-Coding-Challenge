{
 "cells": [
  {
   "cell_type": "markdown",
   "id": "14c9cbd2-93d9-49bc-8130-51999b7a98fa",
   "metadata": {},
   "source": [
    "**DESCRIPTION**  \r\n",
    "Count the number of occurrences of each character and return it as a (list of tuples) in order of appearance. For empty output return (an empty list).\r\n",
    "\r\n",
    "Consult the solution set-up for the exact data structure implementation depending on your language.\r\n",
    "\r\n",
    "**Example**\r\n",
    "\r\n",
    "ordered_count(\"abracadabra\") == [('a', 5), ('b', 2), ('r', 2), ('c', 1), ('d', 1)]"
   ]
  },
  {
   "cell_type": "code",
   "execution_count": 2,
   "id": "953874c2-5077-4885-9216-520b467b18ad",
   "metadata": {},
   "outputs": [
    {
     "data": {
      "text/plain": [
       "[('a', 5), ('b', 2), ('r', 2), ('c', 1), ('d', 1)]"
      ]
     },
     "execution_count": 2,
     "metadata": {},
     "output_type": "execute_result"
    }
   ],
   "source": [
    "def ordered_count(inp):\n",
    "    map = {}\n",
    "    for char in inp:\n",
    "        map[char] = map.get(char, 0) + 1\n",
    "    return [*map.items()]\n",
    "\n",
    "a = ordered_count(\"abracadabra\")\n",
    "a"
   ]
  },
  {
   "cell_type": "code",
   "execution_count": null,
   "id": "01558d5e-e67c-4704-895d-e93eff879747",
   "metadata": {},
   "outputs": [],
   "source": []
  }
 ],
 "metadata": {
  "kernelspec": {
   "display_name": "Python 3 (ipykernel)",
   "language": "python",
   "name": "python3"
  },
  "language_info": {
   "codemirror_mode": {
    "name": "ipython",
    "version": 3
   },
   "file_extension": ".py",
   "mimetype": "text/x-python",
   "name": "python",
   "nbconvert_exporter": "python",
   "pygments_lexer": "ipython3",
   "version": "3.11.4"
  }
 },
 "nbformat": 4,
 "nbformat_minor": 5
}
