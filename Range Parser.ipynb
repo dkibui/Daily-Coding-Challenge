{
 "cells": [
  {
   "cell_type": "markdown",
   "id": "a1664248-d996-4664-a2b5-464428c2be95",
   "metadata": {},
   "source": [
    "DESCRIPTION  \n",
    "\n",
    "In this Kata you are to implement a function that parses a string which is composed from tokens of the form 'n1-n2,n3,n4-n5:n6' where 'nX' is a positive integer. Each token represent a different range:\r\n",
    "\r\n",
    "'n1-n2' represents the range n1 to n2 (inclusive in both ends). 'n3' represents the single integer n3. 'n4-n5:n6' represents the range n4 to n5 (inclusive in both ends) but only includes every other n6 integer.\r\n",
    "\r\n",
    "Notes:\r\n",
    "\r\n",
    "The input string doesn't not have to include all the token types.\r\n",
    "All integers are assumed to be positive.\r\n",
    "Tokens may be separated by ',', ', ' or ,.\r\n",
    "Some examples:\r\n",
    "\r\n",
    "'1-10,14, 20-25:2' -> [1, 2, 3, 4, 5, 6, 7, 8, 9, 10, 14, 20, 22, 24]\r\n",
    "\r\n",
    "'5-10' -> [5, 6, 7, 8, 9, 10]\r\n",
    "\r\n",
    "'2' -> [2]\r\n",
    "\r\n",
    "The output should be a list of integers."
   ]
  },
  {
   "cell_type": "code",
   "execution_count": 8,
   "id": "4274a0a1-d273-4366-a361-3f83724c1fba",
   "metadata": {},
   "outputs": [
    {
     "data": {
      "text/plain": [
       "[1, 2, 3, 4, 5, 6, 7, 8, 9, 10, 14, 20, 22, 24]"
      ]
     },
     "execution_count": 8,
     "metadata": {},
     "output_type": "execute_result"
    }
   ],
   "source": [
    "def range_parser(string):\n",
    "    new_list = []\n",
    "    tokens = []\n",
    "    for x in string.split(\",\"):\n",
    "        new_list.append(x.strip())\n",
    "    for token in new_list:\n",
    "        if \"-\" in token and \":\" in token:\n",
    "            splits = token.split(\":\")\n",
    "            step = int(splits[-1])\n",
    "            start = int(splits[0].split(\"-\")[0])\n",
    "            end = int(splits[0].split(\"-\")[1])\n",
    "            tokens += list(range(start, end + 1, step))\n",
    "        elif \"-\" in token:\n",
    "            token = token.split(\"-\")\n",
    "            tokens += list(range(int(token[0]), int(token[1]) + 1))\n",
    "        else: \n",
    "            tokens.append(int(token))\n",
    "    return tokens\n",
    "a = range_parser('1-10, 14,20-25:2')\n",
    "a"
   ]
  }
 ],
 "metadata": {
  "kernelspec": {
   "display_name": "Python 3 (ipykernel)",
   "language": "python",
   "name": "python3"
  },
  "language_info": {
   "codemirror_mode": {
    "name": "ipython",
    "version": 3
   },
   "file_extension": ".py",
   "mimetype": "text/x-python",
   "name": "python",
   "nbconvert_exporter": "python",
   "pygments_lexer": "ipython3",
   "version": "3.11.4"
  }
 },
 "nbformat": 4,
 "nbformat_minor": 5
}
