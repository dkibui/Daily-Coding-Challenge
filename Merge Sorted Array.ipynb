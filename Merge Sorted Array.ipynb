{
 "cells": [
  {
   "cell_type": "code",
   "execution_count": null,
   "id": "366b37b4-f5b4-4a2e-84e9-3108cde3814e",
   "metadata": {},
   "outputs": [],
   "source": [
    "from typing import List\n",
    "\n",
    "\n",
    "class Solution:\n",
    "    def merge(self, nums1: List[int], m: int, nums2: List[int], n: int) -> None:\n",
    "        \"\"\"\n",
    "        Do not return anything, modify nums1 in-place instead.\n",
    "        \"\"\"\n",
    "        nums2 = nums2[:n]\n",
    "        for i, x in enumerate(nums2):\n",
    "            nums1[m + i] = x\n",
    "        nums1.sort()\n",
    "        return nums1\n",
    "\n",
    "\n",
    "s = Solution()\n",
    "\n",
    "nums1 = [0]\n",
    "m = 0\n",
    "nums2 = [1]\n",
    "n = 1\n",
    "a = s.merge(nums1, m, nums2, n)\n",
    "a"
   ]
  },
  {
   "cell_type": "code",
   "execution_count": null,
   "id": "5ca186c4-1954-4da8-8ed3-7a542262997e",
   "metadata": {},
   "outputs": [],
   "source": [
    "nums = [2, 2, 3, 0, 4, 2]\n",
    "\n",
    "nums.pop(0)\n",
    "print(nums)"
   ]
  },
  {
   "cell_type": "code",
   "execution_count": null,
   "id": "ca598244-6c25-4385-9b4c-3895ecd756ba",
   "metadata": {},
   "outputs": [],
   "source": []
  }
 ],
 "metadata": {
  "kernelspec": {
   "display_name": "Python 3 (ipykernel)",
   "language": "python",
   "name": "python3"
  },
  "language_info": {
   "codemirror_mode": {
    "name": "ipython",
    "version": 3
   },
   "file_extension": ".py",
   "mimetype": "text/x-python",
   "name": "python",
   "nbconvert_exporter": "python",
   "pygments_lexer": "ipython3",
   "version": "3.11.4"
  }
 },
 "nbformat": 4,
 "nbformat_minor": 5
}
