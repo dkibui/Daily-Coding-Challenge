{
 "cells": [
  {
   "cell_type": "markdown",
   "id": "8b1fe92f-ec59-4861-920b-df6e9eb531a2",
   "metadata": {},
   "source": [
    "A non-empty zero-indexed array A consisting of N integers is given.\n",
    "A pair of integers (P, Q), such that 0 ≤ P ≤ Q < N, is called a slice of array A.\n",
    "The sum of a slice (P, Q) is the total of A[P] + A[P+1] + ... + A[Q].\n",
    "\n",
    "Write a function:\n",
    "\n",
    "def solution(A)\n",
    "\n",
    "that, given an array A consisting of N integers, returns the maximum sum of any slice of A.\n",
    "\n",
    "For example, given array A such that:\n",
    "\n",
    "A[0] = 3  \n",
    "A[1] = 2  \n",
    "A[2] = -6  \n",
    "A[3] = 4  \n",
    "A[4] = 0\n",
    "\n",
    "the function should return 5 because:\n",
    "\n",
    "(3, 4) is a slice of A that has sum 4,\n",
    "(2, 2) is a slice of A that has sum −6,\n",
    "(0, 1) is a slice of A that has sum 5,\n",
    "no other slice of A has sum greater than (0, 1).\n",
    "Assume that:\n",
    "\n",
    "N is an integer within the range [1..1,000,000];\n",
    "each element of array A is an integer within the range [−1,000,000..1,000,000];\n",
    "the result will be an integer within the range [−2,147,483,648..2,147,483,647].\n",
    "Complexity:\n",
    "\n",
    "expected worst-case time complexity is O(N);\n",
    "expected worst-case space complexity is O(N),beyond input storage (not counting the storage required for input arguments). Elements of input arrays can be modified."
   ]
  },
  {
   "cell_type": "code",
   "execution_count": 14,
   "id": "b27267c6-c2db-4514-8839-ff10b8fcb80b",
   "metadata": {},
   "outputs": [
    {
     "data": {
      "text/plain": [
       "-2"
      ]
     },
     "execution_count": 14,
     "metadata": {},
     "output_type": "execute_result"
    }
   ],
   "source": [
    "def max_sub_sum(A):\n",
    "    maxc = maxg = A[0]\n",
    "    for val in A:\n",
    "        maxc = max(maxc, maxc + val)\n",
    "        maxg = max(maxg, maxc)\n",
    "    return maxg\n",
    "\n",
    "A = [-2,-2,-6,-40]\n",
    "a = max_sub_sum(A)\n",
    "a"
   ]
  },
  {
   "cell_type": "code",
   "execution_count": null,
   "id": "5aa3bcb2-b393-4160-854c-51544acd8466",
   "metadata": {},
   "outputs": [],
   "source": []
  }
 ],
 "metadata": {
  "kernelspec": {
   "display_name": "Python 3 (ipykernel)",
   "language": "python",
   "name": "python3"
  },
  "language_info": {
   "codemirror_mode": {
    "name": "ipython",
    "version": 3
   },
   "file_extension": ".py",
   "mimetype": "text/x-python",
   "name": "python",
   "nbconvert_exporter": "python",
   "pygments_lexer": "ipython3",
   "version": "3.10.7"
  }
 },
 "nbformat": 4,
 "nbformat_minor": 5
}
