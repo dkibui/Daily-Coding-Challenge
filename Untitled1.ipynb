{
 "cells": [
  {
   "cell_type": "code",
   "execution_count": 4,
   "id": "bd6dea32-f12e-4cea-9cb7-884f342c5060",
   "metadata": {},
   "outputs": [
    {
     "data": {
      "text/plain": [
       "[4, 7, 8, 9, 10, 15, 16, 19]"
      ]
     },
     "execution_count": 4,
     "metadata": {},
     "output_type": "execute_result"
    }
   ],
   "source": [
    "def merge_sorted(head1, head2):\n",
    "    c = [*head1, *head2]\n",
    "    return sorted(c)\n",
    "\n",
    "\n",
    "a = [4, 8, 15, 19]\n",
    "b = [7, 9, 10, 16]\n",
    "merge_sorted(a, b)"
   ]
  },
  {
   "cell_type": "code",
   "execution_count": null,
   "id": "ce173884-ffc0-44c6-8e1c-fd87855dbec7",
   "metadata": {},
   "outputs": [],
   "source": [
    "def merge_sorted(head1, head2):\n",
    "  #TODO: Write - Your - Code\n",
    "  return head1"
   ]
  },
  {
   "cell_type": "code",
   "execution_count": 12,
   "id": "9ad7ffa9-be45-4ad5-b744-aac756e9b50c",
   "metadata": {},
   "outputs": [
    {
     "ename": "AttributeError",
     "evalue": "'list' object has no attribute 'data'",
     "output_type": "error",
     "traceback": [
      "\u001b[1;31m---------------------------------------------------------------------------\u001b[0m",
      "\u001b[1;31mAttributeError\u001b[0m                            Traceback (most recent call last)",
      "Cell \u001b[1;32mIn[12], line 38\u001b[0m\n\u001b[0;32m     36\u001b[0m a \u001b[38;5;241m=\u001b[39m [\u001b[38;5;241m4\u001b[39m, \u001b[38;5;241m8\u001b[39m, \u001b[38;5;241m15\u001b[39m, \u001b[38;5;241m19\u001b[39m]\n\u001b[0;32m     37\u001b[0m b \u001b[38;5;241m=\u001b[39m [\u001b[38;5;241m7\u001b[39m, \u001b[38;5;241m9\u001b[39m, \u001b[38;5;241m10\u001b[39m, \u001b[38;5;241m16\u001b[39m]\n\u001b[1;32m---> 38\u001b[0m \u001b[43mmerge_sorted\u001b[49m\u001b[43m(\u001b[49m\u001b[43ma\u001b[49m\u001b[43m,\u001b[49m\u001b[43m \u001b[49m\u001b[43mb\u001b[49m\u001b[43m)\u001b[49m\n",
      "Cell \u001b[1;32mIn[12], line 8\u001b[0m, in \u001b[0;36mmerge_sorted\u001b[1;34m(head1, head2)\u001b[0m\n\u001b[0;32m      5\u001b[0m     \u001b[38;5;28;01mreturn\u001b[39;00m head1\n\u001b[0;32m      7\u001b[0m mergedHead \u001b[38;5;241m=\u001b[39m \u001b[38;5;28;01mNone\u001b[39;00m;\n\u001b[1;32m----> 8\u001b[0m \u001b[38;5;28;01mif\u001b[39;00m \u001b[43mhead1\u001b[49m\u001b[38;5;241;43m.\u001b[39;49m\u001b[43mdata\u001b[49m \u001b[38;5;241m<\u001b[39m\u001b[38;5;241m=\u001b[39m head2\u001b[38;5;241m.\u001b[39mdata:\n\u001b[0;32m      9\u001b[0m     mergedHead \u001b[38;5;241m=\u001b[39m head1\n\u001b[0;32m     10\u001b[0m     head1 \u001b[38;5;241m=\u001b[39m head1\u001b[38;5;241m.\u001b[39mnext\n",
      "\u001b[1;31mAttributeError\u001b[0m: 'list' object has no attribute 'data'"
     ]
    }
   ],
   "source": [
    "def merge_sorted(head1, head2):\n",
    "    if head1 == None:\n",
    "        return head2\n",
    "    elif head2 == None:\n",
    "        return head1\n",
    "\n",
    "    mergedHead = None;\n",
    "    if head1.data <= head2.data:\n",
    "        mergedHead = head1\n",
    "        head1 = head1.next\n",
    "    else:\n",
    "        mergedHead = head2\n",
    "        head2 = head2.next\n",
    "\n",
    "    mergedTail = mergedHead\n",
    "  \n",
    "    while head1 != None and head2 != None:\n",
    "        temp = None\n",
    "        if head1.data <= head2.data:\n",
    "            temp = head1\n",
    "            head1 = head1.next\n",
    "        else:\n",
    "            temp = head2\n",
    "            head2 = head2.next\n",
    "\n",
    "    mergedTail.next = temp\n",
    "    mergedTail = temp\n",
    "\n",
    "    if head1 != None:\n",
    "        mergedTail.next = head1\n",
    "    elif head2 != None:\n",
    "        mergedTail.next = head2\n",
    "    \n",
    "    return mergedHead\n",
    "\n",
    "a = [4, 8, 15, 19]\n",
    "b = [7, 9, 10, 16]\n",
    "merge_sorted(a, b)"
   ]
  },
  {
   "cell_type": "code",
   "execution_count": null,
   "id": "251f38a2-5836-4b64-9736-6e9fea5ab6ef",
   "metadata": {},
   "outputs": [],
   "source": []
  }
 ],
 "metadata": {
  "kernelspec": {
   "display_name": "Python 3 (ipykernel)",
   "language": "python",
   "name": "python3"
  },
  "language_info": {
   "codemirror_mode": {
    "name": "ipython",
    "version": 3
   },
   "file_extension": ".py",
   "mimetype": "text/x-python",
   "name": "python",
   "nbconvert_exporter": "python",
   "pygments_lexer": "ipython3",
   "version": "3.11.4"
  }
 },
 "nbformat": 4,
 "nbformat_minor": 5
}
