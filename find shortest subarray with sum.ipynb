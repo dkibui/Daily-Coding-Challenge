{
 "cells": [
  {
   "cell_type": "code",
   "execution_count": 3,
   "id": "40610204-4ac8-4a96-bdae-58a090d9b553",
   "metadata": {},
   "outputs": [
    {
     "data": {
      "text/plain": [
       "5"
      ]
     },
     "execution_count": 3,
     "metadata": {},
     "output_type": "execute_result"
    }
   ],
   "source": [
    "def find_shortest_subarray_with_sum(array, target_sum):\n",
    "    window_sum = 0\n",
    "    left = 0\n",
    "    result = float('inf')\n",
    "    min_length_up_to = [float('inf')] * len(arr)\n",
    "    for right, value in enumerate(array):\n",
    "        min_length_up_to[right] = min_length_up_to[right - 1]\n",
    "        window_sum += array[right]\n",
    "        while window_sum > target_sum:\n",
    "            window_sum -= array[left] \n",
    "            left += 1\n",
    "        if window_sum == target_sum:\n",
    "            length = right - left + 1\n",
    "            result = min(result, min_length_up_to[left - 1] + length)\n",
    "            min_length_up_to[right] = min(min_length_up_to[right], length)\n",
    "    if result == float('inf'):\n",
    "        return 0\n",
    "    return result\n",
    "\n",
    "arr = [1,2,1,1,1]\n",
    "target = 3\n",
    "\n",
    "a = find_shortest_subarray_with_sum(arr, target)\n",
    "a"
   ]
  },
  {
   "cell_type": "code",
   "execution_count": null,
   "id": "f3223ee0-8372-41e8-9c8b-6b2cdf940d72",
   "metadata": {},
   "outputs": [],
   "source": []
  }
 ],
 "metadata": {
  "kernelspec": {
   "display_name": "Python 3 (ipykernel)",
   "language": "python",
   "name": "python3"
  },
  "language_info": {
   "codemirror_mode": {
    "name": "ipython",
    "version": 3
   },
   "file_extension": ".py",
   "mimetype": "text/x-python",
   "name": "python",
   "nbconvert_exporter": "python",
   "pygments_lexer": "ipython3",
   "version": "3.11.4"
  }
 },
 "nbformat": 4,
 "nbformat_minor": 5
}
