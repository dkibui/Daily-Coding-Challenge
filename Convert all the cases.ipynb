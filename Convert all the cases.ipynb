{
 "cells": [
  {
   "cell_type": "code",
   "execution_count": 56,
   "id": "72513002-6268-4bbb-aebf-cd6666d8f4f3",
   "metadata": {},
   "outputs": [
    {
     "data": {
      "text/plain": [
       "'someLispName'"
      ]
     },
     "execution_count": 56,
     "metadata": {},
     "output_type": "execute_result"
    }
   ],
   "source": [
    "def change_case(identifier, targetCase):\n",
    "    words = []\n",
    "    if not is_valid_case(identifier):\n",
    "        return None\n",
    "    \n",
    "    for char in identifier:\n",
    "        if char == \"-\" or char == \"_\":\n",
    "            words.append(\" \")\n",
    "        elif char.isupper():\n",
    "            words.append(\" \")\n",
    "            words.append(char.lower())\n",
    "        else:\n",
    "            words.append(char.lower())\n",
    "    words = \"\".join(words).split()\n",
    "    \n",
    "    if targetCase == \"snake\":\n",
    "        return \"_\".join(words)\n",
    "    elif targetCase == \"kebab\":\n",
    "        return \"-\".join(words)\n",
    "    elif targetCase == \"camel\":\n",
    "        intermidiary = []\n",
    "        for i, word in enumerate(words):\n",
    "            if i == 0:\n",
    "                intermidiary.append(word)\n",
    "            else:\n",
    "                intermidiary.append(word.title())\n",
    "        return \"\".join(intermidiary)\n",
    "\n",
    "def is_valid_case(s):\n",
    "    if len(s) == 0:\n",
    "        return True\n",
    "    has_dash = True if \"-\" in s else False\n",
    "    has_underscore = True if \"_\" in s else False\n",
    "    has_upper_case = True if [1 for char in s if char.isupper()] else False\n",
    "    return True if (has_upper_case + has_underscore + has_dash) == 1 else False\n",
    "\n",
    "identifier = \"some-lisp-name\"\n",
    "targetCase = \"camel\"\n",
    "a = change_case(identifier, targetCase)\n",
    "a"
   ]
  }
 ],
 "metadata": {
  "kernelspec": {
   "display_name": "Python 3 (ipykernel)",
   "language": "python",
   "name": "python3"
  },
  "language_info": {
   "codemirror_mode": {
    "name": "ipython",
    "version": 3
   },
   "file_extension": ".py",
   "mimetype": "text/x-python",
   "name": "python",
   "nbconvert_exporter": "python",
   "pygments_lexer": "ipython3",
   "version": "3.11.4"
  }
 },
 "nbformat": 4,
 "nbformat_minor": 5
}
