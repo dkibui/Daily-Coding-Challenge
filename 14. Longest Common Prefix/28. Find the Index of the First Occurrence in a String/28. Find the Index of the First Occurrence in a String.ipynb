{
 "cells": [
  {
   "cell_type": "code",
   "execution_count": null,
   "id": "1a6669a8-5099-473e-9464-3213fed3fb0b",
   "metadata": {},
   "outputs": [],
   "source": [
    "def strStr(haystack, needle):\n",
    "    start = -1\n",
    "    for i, char in enumerate(haystack):\n",
    "        if char == needle[0]:\n",
    "            start = i\n",
    "        \n",
    "    "
   ]
  },
  {
   "cell_type": "code",
   "execution_count": null,
   "id": "ffdf3d51-c605-4a44-9044-2e9f45e7cdce",
   "metadata": {},
   "outputs": [],
   "source": [
    "def strStr(haystack, needle):\n",
    "    i = 0\n",
    "    start = -1\n",
    "    while i < len(haystack):\n",
    "        if haystack[i] == needle[0]:\n",
    "            start = i\n",
    "        while haystack[start:] == needle[:]:\n",
    "            "
   ]
  }
 ],
 "metadata": {
  "kernelspec": {
   "display_name": "Python 3 (ipykernel)",
   "language": "python",
   "name": "python3"
  },
  "language_info": {
   "codemirror_mode": {
    "name": "ipython",
    "version": 3
   },
   "file_extension": ".py",
   "mimetype": "text/x-python",
   "name": "python",
   "nbconvert_exporter": "python",
   "pygments_lexer": "ipython3",
   "version": "3.11.4"
  }
 },
 "nbformat": 4,
 "nbformat_minor": 5
}
