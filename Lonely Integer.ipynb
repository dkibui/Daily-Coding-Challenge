{
 "cells": [
  {
   "cell_type": "raw",
   "id": "d20390df-3e69-4bca-b6dc-71d903fd6d24",
   "metadata": {},
   "source": [
    "Given an array of integers, where all elements but one occur twice, find the unique element.\n",
    "\n",
    "Example\n",
    "a = [1,2,3,4,3,2,1]\n",
    "The unique element is 4.\n",
    "\n",
    "Function Description\n",
    "Complete the lonelyinteger function in the editor below. lonelyinteger has the following parameter(s):\n",
    "\n",
    "• int a[n]: an array of integers\n",
    "\n",
    "Returns\n",
    "• int: the element that occurs only once\n",
    "\n",
    "Input Format\n",
    "The first line contains a single integer, n, the number of integers in the array.\n",
    "\n",
    "The second line contains n space-separated integers that describe the\n",
    "values in a.\n",
    "\n",
    "Constraints\n",
    "1 <= 100 < 100\n",
    "\n",
    "It is guaranteed that n is an odd number and that there is one unique element.\n",
    "0 <= a[i] <= 100, where 0 <= i < n."
   ]
  },
  {
   "cell_type": "code",
   "execution_count": null,
   "id": "ee348b21-192d-4e94-bed7-eacd3db12f8b",
   "metadata": {},
   "outputs": [],
   "source": [
    "def lonelyinteger(a):\n",
    "    map = {}\n",
    "    for n in a:\n",
    "        map[n] = map.get(n, 0) + 1\n",
    "    for key, val in map.items():\n",
    "        if val == 1:\n",
    "            return key"
   ]
  }
 ],
 "metadata": {
  "kernelspec": {
   "display_name": "Python 3 (ipykernel)",
   "language": "python",
   "name": "python3"
  },
  "language_info": {
   "codemirror_mode": {
    "name": "ipython",
    "version": 3
   },
   "file_extension": ".py",
   "mimetype": "text/x-python",
   "name": "python",
   "nbconvert_exporter": "python",
   "pygments_lexer": "ipython3",
   "version": "3.11.4"
  }
 },
 "nbformat": 4,
 "nbformat_minor": 5
}
