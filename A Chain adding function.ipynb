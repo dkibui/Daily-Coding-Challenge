{
 "cells": [
  {
   "cell_type": "code",
   "execution_count": 9,
   "id": "c6d8513c-54ba-458a-a81d-c0ba8a2e2cb7",
   "metadata": {},
   "outputs": [
    {
     "data": {
      "text/plain": [
       "6"
      ]
     },
     "execution_count": 9,
     "metadata": {},
     "output_type": "execute_result"
    }
   ],
   "source": [
    "class add(int):\n",
    "    def __call__(self,n):\n",
    "        return add(self+n)\n",
    "    \n",
    "# add(1)(2)(3)"
   ]
  },
  {
   "cell_type": "code",
   "execution_count": null,
   "id": "48d3d8a1-a9b0-470a-a44c-677a53f699a5",
   "metadata": {},
   "outputs": [],
   "source": []
  }
 ],
 "metadata": {
  "kernelspec": {
   "display_name": "Python 3 (ipykernel)",
   "language": "python",
   "name": "python3"
  },
  "language_info": {
   "codemirror_mode": {
    "name": "ipython",
    "version": 3
   },
   "file_extension": ".py",
   "mimetype": "text/x-python",
   "name": "python",
   "nbconvert_exporter": "python",
   "pygments_lexer": "ipython3",
   "version": "3.11.4"
  }
 },
 "nbformat": 4,
 "nbformat_minor": 5
}
