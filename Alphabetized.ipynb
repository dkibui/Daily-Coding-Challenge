{
 "cells": [
  {
   "cell_type": "code",
   "execution_count": 2,
   "id": "979d20d9-7b1e-4166-87da-ca5a9946fb4b",
   "metadata": {},
   "outputs": [
    {
     "data": {
      "text/plain": [
       "'BbeehHilloTy'"
      ]
     },
     "execution_count": 2,
     "metadata": {},
     "output_type": "execute_result"
    }
   ],
   "source": [
    "def alphabetized(s):\n",
    "    only_chars = filter(str.isalpha, s)\n",
    "    sorted_li = sorted(only_chars, key=str.lower)\n",
    "    return \"\".join()\n",
    "\n",
    "a = alphabetized(\"The Holy Bible\")\n",
    "a"
   ]
  },
  {
   "cell_type": "code",
   "execution_count": 3,
   "id": "7b48b979-98d6-4c48-a90e-f77f7d3e9ea9",
   "metadata": {},
   "outputs": [
    {
     "data": {
      "text/plain": [
       "'abcdefghijklmnopqrstuvwxyzABCDEFGHIJKLMNOPQRSTUVWXYZ'"
      ]
     },
     "execution_count": 3,
     "metadata": {},
     "output_type": "execute_result"
    }
   ],
   "source": [
    "import string\n",
    "string.ascii_letters"
   ]
  },
  {
   "cell_type": "code",
   "execution_count": 17,
   "id": "fc0386fa-1966-44ee-b828-3f205490448a",
   "metadata": {},
   "outputs": [
    {
     "name": "stdout",
     "output_type": "stream",
     "text": [
      "{'T': 1, 'h': 1, 'e': 2, 'H': 1, 'o': 1, 'l': 2, 'y': 1, 'B': 1, 'i': 1, 'b': 1}\n"
     ]
    }
   ],
   "source": [
    "def reorder_string(string):\n",
    "    # Remove whitespace and punctuation\n",
    "    modified_string = ''.join(char for char in string if char.isalpha())\n",
    "\n",
    "    # Convert to lowercase\n",
    "    # modified_string = modified_string.lower()\n",
    "\n",
    "    # Create a dictionary to store the count of each letter's appearance\n",
    "    count_dict = {}\n",
    "    for char in modified_string:\n",
    "        count_dict[char] = count_dict.get(char, 0) + 1\n",
    "\n",
    "    # Sort the letters based on appearance order and case-insensitive alphabetical order\n",
    "    sorted_string = ''.join(sorted(modified_string, key=lambda x: (count_dict[x], x.lower())))\n",
    "\n",
    "    return count_dict\n",
    "\n",
    "# Example usage\n",
    "input_string = \"The Holy Bible\"\n",
    "output_string = reorder_string(input_string)\n",
    "print(output_string)"
   ]
  },
  {
   "cell_type": "code",
   "execution_count": null,
   "id": "17c88a25-44b7-4b3d-b96c-b482bcf98600",
   "metadata": {},
   "outputs": [],
   "source": []
  }
 ],
 "metadata": {
  "kernelspec": {
   "display_name": "Python 3 (ipykernel)",
   "language": "python",
   "name": "python3"
  },
  "language_info": {
   "codemirror_mode": {
    "name": "ipython",
    "version": 3
   },
   "file_extension": ".py",
   "mimetype": "text/x-python",
   "name": "python",
   "nbconvert_exporter": "python",
   "pygments_lexer": "ipython3",
   "version": "3.11.4"
  }
 },
 "nbformat": 4,
 "nbformat_minor": 5
}
