{
 "cells": [
  {
   "cell_type": "code",
   "execution_count": null,
   "id": "b5da5e5c-1395-45f7-9e67-0d730fa531e1",
   "metadata": {},
   "outputs": [],
   "source": [
    "Given two integers a and b, which can be positive or negative, find the sum of all the integers between and including them and return it. If the two numbers are equal return a or b.\n",
    "\n",
    "Note: a and b are not ordered!\n",
    "\n",
    "Examples (a, b) --> output (explanation)  \n",
    "(1, 0) --> 1 (1 + 0 = 1)  \n",
    "(1, 2) --> 3 (1 + 2 = 3)  \n",
    "(0, 1) --> 1 (0 + 1 = 1)  \n",
    "(1, 1) --> 1 (1 since both are same)  \n",
    "(-1, 0) --> -1 (-1 + 0 = -1)  \n",
    "(-1, 2) --> 2 (-1 + 0 + 1 + 2 = 2)  \n",
    "Your function should only return a number, not the explanation about how you get that number."
   ]
  },
  {
   "cell_type": "code",
   "execution_count": 7,
   "id": "c39f6207-fdde-42ec-8b7f-3b4b75225757",
   "metadata": {},
   "outputs": [
    {
     "data": {
      "text/plain": [
       "-1"
      ]
     },
     "execution_count": 7,
     "metadata": {},
     "output_type": "execute_result"
    }
   ],
   "source": [
    "def get_sum(a,b):\n",
    "    return sum(range(min(a,b), max(a,b) + 1))\n",
    "\n",
    "get_sum(-1,-1)"
   ]
  },
  {
   "cell_type": "code",
   "execution_count": null,
   "id": "f32434e7-2e2d-4533-b60d-76f82bb1e4e2",
   "metadata": {},
   "outputs": [],
   "source": []
  }
 ],
 "metadata": {
  "kernelspec": {
   "display_name": "Python 3 (ipykernel)",
   "language": "python",
   "name": "python3"
  },
  "language_info": {
   "codemirror_mode": {
    "name": "ipython",
    "version": 3
   },
   "file_extension": ".py",
   "mimetype": "text/x-python",
   "name": "python",
   "nbconvert_exporter": "python",
   "pygments_lexer": "ipython3",
   "version": "3.11.4"
  }
 },
 "nbformat": 4,
 "nbformat_minor": 5
}
