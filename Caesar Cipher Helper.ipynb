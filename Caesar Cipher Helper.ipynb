{
 "cells": [
  {
   "cell_type": "code",
   "execution_count": null,
   "id": "c34fb8b9-c29e-45ff-805a-ad2fec309869",
   "metadata": {},
   "outputs": [],
   "source": [
    "class CaesarCipher(object):\n",
    "    def __init__(self, shift):\n",
    "        self.shift = shift\n",
    "\n",
    "    def encode(self, st):\n",
    "        alphabets = 'abcdefghijklmnopqrstuvwxyz'\n",
    "        pass\n",
    "\n",
    "    def decode(self, st):\n",
    "        pass"
   ]
  },
  {
   "cell_type": "code",
   "execution_count": 2,
   "id": "4f79c943-557a-4900-ae05-7ca9d84d1879",
   "metadata": {},
   "outputs": [
    {
     "data": {
      "text/plain": [
       "'abcdefghijklmnopqrstuvwxyz'"
      ]
     },
     "execution_count": 2,
     "metadata": {},
     "output_type": "execute_result"
    }
   ],
   "source": [
    "'abcdefghijklmnopqrstuvwxyz'"
   ]
  },
  {
   "cell_type": "code",
   "execution_count": null,
   "id": "6c0e310a-62e7-4cdc-bd82-92d53916ab7e",
   "metadata": {},
   "outputs": [],
   "source": []
  }
 ],
 "metadata": {
  "kernelspec": {
   "display_name": "Python 3 (ipykernel)",
   "language": "python",
   "name": "python3"
  },
  "language_info": {
   "codemirror_mode": {
    "name": "ipython",
    "version": 3
   },
   "file_extension": ".py",
   "mimetype": "text/x-python",
   "name": "python",
   "nbconvert_exporter": "python",
   "pygments_lexer": "ipython3",
   "version": "3.11.4"
  }
 },
 "nbformat": 4,
 "nbformat_minor": 5
}
