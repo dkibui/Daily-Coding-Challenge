{
 "cells": [
  {
   "cell_type": "code",
   "execution_count": 14,
   "id": "cdb56582-9134-47be-af84-734e85bb8f3c",
   "metadata": {},
   "outputs": [
    {
     "data": {
      "text/plain": [
       "True"
      ]
     },
     "execution_count": 14,
     "metadata": {},
     "output_type": "execute_result"
    }
   ],
   "source": [
    "def find_sum_of_two(A, val):\n",
    "    for i, num in enumerate(A):\n",
    "        target = val - num\n",
    "        if target in A[i+1:]:\n",
    "            return True\n",
    "    return False\n",
    "\n",
    "A = [2,61,4,-53]\n",
    "val = 6\n",
    "find_sum_of_two(A, val)"
   ]
  },
  {
   "cell_type": "code",
   "execution_count": null,
   "id": "73c1490f-0fe8-4c1d-87d3-7ada35e5533a",
   "metadata": {},
   "outputs": [],
   "source": []
  }
 ],
 "metadata": {
  "kernelspec": {
   "display_name": "Python 3 (ipykernel)",
   "language": "python",
   "name": "python3"
  },
  "language_info": {
   "codemirror_mode": {
    "name": "ipython",
    "version": 3
   },
   "file_extension": ".py",
   "mimetype": "text/x-python",
   "name": "python",
   "nbconvert_exporter": "python",
   "pygments_lexer": "ipython3",
   "version": "3.11.4"
  }
 },
 "nbformat": 4,
 "nbformat_minor": 5
}
