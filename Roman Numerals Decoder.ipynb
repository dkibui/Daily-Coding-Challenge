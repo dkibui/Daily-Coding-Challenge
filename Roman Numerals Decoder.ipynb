{
 "cells": [
  {
   "cell_type": "markdown",
   "id": "eabf70c5-47d3-43fa-ba8c-10b33a6a21f4",
   "metadata": {},
   "source": [
    "Create a function that takes a Roman numeral as its argument and returns its value as a numeric decimal integer. You don't need to validate the form of the Roman numeral.\r\n",
    "\r\n",
    "Modern Roman numerals are written by expressing each decimal digit of the number to be encoded separately, starting with the leftmost digit and skipping any 0s. So 1990 is rendered \"MCMXC\" (1000 = M, 900 = CM, 90 = XC) and 2008 is rendered \"MMVIII\" (2000 = MM, 8 = VIII). The Roman numeral for 1666, \"MDCLXVI\", uses each letter in descending orde   \n",
    "\n",
    "Example  \n",
    "\n",
    "`solution('XXI') # should return 21\r\n",
    "\n",
    "\n",
    "```\n",
    "Symbol    Value\r\n",
    "I          1\r\n",
    "V          5\r\n",
    "X          10\r\n",
    "L          50\r\n",
    "C          100\r\n",
    "D          500\r\n",
    "M          ``1,000\n",
    "``ple:"
   ]
  },
  {
   "cell_type": "code",
   "execution_count": null,
   "id": "193a8037-fa0c-4217-9e0b-3336b653e7e6",
   "metadata": {},
   "outputs": [],
   "source": [
    "def solution(roman):\n",
    "    table = {\"M\":1000,\"D\":500,\"C\":100,\"L\":50,\"X\":10,\"V\":5,\"I\":1} \n",
    "    number = 0\n",
    "    prev_num = 0\n",
    "    for i in roman:  \n",
    "        number += table[i] \n",
    "        if table[i] > prev_num: \n",
    "            number = number - (2 * prev_num)\n",
    "        prev_num = table[i]\n",
    "    return number"
   ]
  }
 ],
 "metadata": {
  "kernelspec": {
   "display_name": "Python 3 (ipykernel)",
   "language": "python",
   "name": "python3"
  },
  "language_info": {
   "codemirror_mode": {
    "name": "ipython",
    "version": 3
   },
   "file_extension": ".py",
   "mimetype": "text/x-python",
   "name": "python",
   "nbconvert_exporter": "python",
   "pygments_lexer": "ipython3",
   "version": "3.11.4"
  }
 },
 "nbformat": 4,
 "nbformat_minor": 5
}
