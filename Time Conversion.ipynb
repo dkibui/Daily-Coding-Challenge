{
 "cells": [
  {
   "cell_type": "raw",
   "id": "7bc66c01-be02-46ef-acd2-396c1f9b8efa",
   "metadata": {},
   "source": [
    "Given a time in 12-hour AM/PM format, convert it to military (24-hour) time.\n",
    "\n",
    "Note\n",
    "12:00:00AM on a 12-hour clock is 00:00:00 on a 24-hour clock.\n",
    "12:00:00PM on a 12-hour clock is 12:00:00 on a 24-hour clock.\n",
    "\n",
    "Example\n",
    "s = '12:01:00PM'\n",
    "Return '12:01:00'\n",
    "\n",
    "s = '12:01:00AM'\n",
    "Return '00:01:00'\n",
    "\n",
    "Function Description\n",
    "Complete the timeconversion function in the editor below. It should\n",
    "return a new string representing the input time in 24 hour format.\n",
    "timeconversion has the following parameter(s):\n",
    "\n",
    "string s: a time in 12 hour format\n",
    "\n",
    "Returns\n",
    "string: the time in 24 hour format\n",
    "\n",
    "Input Format\n",
    "A single string s that represents a time in 12-hour clock format i.e (hh:mm:ssAM or hh:mm:ssPM)\n",
    "\n",
    "Constraints\n",
    "All input times are valid\n",
    "Sample Input\n",
    "07:05:45PM\n",
    "Sample Output\n",
    "19:05:45"
   ]
  },
  {
   "cell_type": "code",
   "execution_count": null,
   "id": "c3f53153-586e-4a3c-8e1d-5425431f4334",
   "metadata": {},
   "outputs": [],
   "source": [
    "def timeConversion(s):\n",
    "    hr, min, ss = map(int, s[:-2].split(':'))\n",
    "    meridian = s[-2:]\n",
    "\n",
    "    if meridian == 'AM':\n",
    "        if hr == 12:\n",
    "            hr = 0\n",
    "    else:\n",
    "        if hr != 12:\n",
    "            hr += 12\n",
    "\n",
    "    military_time = f\"{hr:02d}:{min:02d}:{ss:02d}\""
   ]
  }
 ],
 "metadata": {
  "kernelspec": {
   "display_name": "Python 3 (ipykernel)",
   "language": "python",
   "name": "python3"
  },
  "language_info": {
   "codemirror_mode": {
    "name": "ipython",
    "version": 3
   },
   "file_extension": ".py",
   "mimetype": "text/x-python",
   "name": "python",
   "nbconvert_exporter": "python",
   "pygments_lexer": "ipython3",
   "version": "3.11.4"
  }
 },
 "nbformat": 4,
 "nbformat_minor": 5
}
