{
 "cells": [
  {
   "cell_type": "markdown",
   "id": "acffd9b6-9ece-444f-a174-e9e1f75eb9dd",
   "metadata": {},
   "source": [
    "Digital root is the recursive sum of all the digits in a number.\n",
    "Given n, take the sum of the digits of n. If that value has more than one digit,\n",
    "continue reducing in this way until a single-digit number is produced.\n",
    "The input will be a non-negative integer.\n",
    "\n",
    "**Examples**\n",
    "\n",
    "16  -->  1 + 6 = 7\n",
    "\n",
    "942  -->  9 + 4 + 2 = 15  -->  1 + 5 = 6\n",
    "\n",
    "132189  -->  1 + 3 + 2 + 1 + 8 + 9 = 24  -->  2 + 4 = 6\n",
    "\n",
    "493193  -->  4 + 9 + 3 + 1 + 9 + 3 = 29  -->  2 + 9 = 11 -->  1 + 1 = 2"
   ]
  },
  {
   "cell_type": "code",
   "execution_count": 9,
   "id": "e21e1904-a924-4bf9-84c3-e40c7ce53969",
   "metadata": {},
   "outputs": [
    {
     "data": {
      "text/plain": [
       "14"
      ]
     },
     "execution_count": 9,
     "metadata": {},
     "output_type": "execute_result"
    }
   ],
   "source": [
    "def digital_root(n):\n",
    "    sum = 0\n",
    "    while n > 0:\n",
    "        sum += n % 10\n",
    "        n = n // 10\n",
    "    return sum\n",
    "        \n",
    "n = 563\n",
    "a = digital_root(n)\n",
    "a"
   ]
  }
 ],
 "metadata": {
  "kernelspec": {
   "display_name": "Python 3 (ipykernel)",
   "language": "python",
   "name": "python3"
  },
  "language_info": {
   "codemirror_mode": {
    "name": "ipython",
    "version": 3
   },
   "file_extension": ".py",
   "mimetype": "text/x-python",
   "name": "python",
   "nbconvert_exporter": "python",
   "pygments_lexer": "ipython3",
   "version": "3.10.7"
  }
 },
 "nbformat": 4,
 "nbformat_minor": 5
}
