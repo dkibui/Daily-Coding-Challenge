{
 "cells": [
  {
   "cell_type": "markdown",
   "id": "66b55165-b961-4e1b-bba0-049e40cebee9",
   "metadata": {},
   "source": [
    "You're hanging out with your friends in a bar, when suddenly one of them is so drunk, that he can't speak, and when he wants to say something, he writes it down on a paper. However, none of the words he writes make sense to you. He wants to help you, so he points at a beer and writes \"yvvi\". You start to understand what he's trying to say, and you write a script, that decodes his words.\r\n",
    "\r\n",
    "Keep in mind that numbers, as well as other characters, can be part of the input, and you should keep them like they are. You should also test if the input is a string. If it is not, return \"Input is not a string\"."
   ]
  },
  {
   "cell_type": "code",
   "execution_count": 64,
   "id": "5323b191-2e62-4387-8665-e246f7638658",
   "metadata": {},
   "outputs": [
    {
     "data": {
      "text/plain": [
       "'yvvi'"
      ]
     },
     "execution_count": 64,
     "metadata": {},
     "output_type": "execute_result"
    }
   ],
   "source": [
    "def decode(string):\n",
    "    if not isinstance(string, str): return \"Input is not a string\"\n",
    "    letters = 'abcdefghijklmnopqrstuvwxyzABCDEFGHIJKLMNOPQRSTUVWXYZ'\n",
    "    word = \"\"\n",
    "    for i, char in enumerate(letters):\n",
    "        index = (25 - i) % 52\n",
    "        map[char] = index\n",
    "\n",
    "    for char in string:\n",
    "        if char in letters:\n",
    "            word += letters[map[char]]\n",
    "        else:\n",
    "            word += char\n",
    "    return word\n",
    "\n",
    "decode(\"beer\")"
   ]
  }
 ],
 "metadata": {
  "kernelspec": {
   "display_name": "Python 3 (ipykernel)",
   "language": "python",
   "name": "python3"
  },
  "language_info": {
   "codemirror_mode": {
    "name": "ipython",
    "version": 3
   },
   "file_extension": ".py",
   "mimetype": "text/x-python",
   "name": "python",
   "nbconvert_exporter": "python",
   "pygments_lexer": "ipython3",
   "version": "3.11.4"
  }
 },
 "nbformat": 4,
 "nbformat_minor": 5
}
