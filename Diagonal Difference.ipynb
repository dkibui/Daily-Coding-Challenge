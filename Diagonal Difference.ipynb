{
 "cells": [
  {
   "cell_type": "raw",
   "id": "42ead50a-8b04-493b-96f8-36e3b07a8055",
   "metadata": {},
   "source": [
    "Given a square matrix, calculate the absolute difference between the sums of its diagonals.\n",
    "For example, the square matrix arr is shown below:\n",
    "123\n",
    "456\n",
    "989\n",
    "-1+5+9\n",
    "The left-to-right diagonal -\n",
    "115 — 171 = 2.\n",
    "Function description\n",
    "= 15. The right to left diagonal =\n",
    "3+5+9 —\n",
    "— 17. Their absolute difference is\n",
    "Complete the diagonalDifference function in the editor below.\n",
    "diagonalDifference takes the following parameter:\n",
    "• int an array of integers\n",
    "Return\n",
    "• int: the absolute diagonal difference\n",
    "Input Format\n",
    "The first line contains a single integer, n, the number of rows and columns in the square matrix arr.\n",
    "Each of the next n lines describes a row, arr[i], and consists of n space-separated integers arr i"
   ]
  },
  {
   "cell_type": "code",
   "execution_count": 1,
   "id": "4e3dcec2-5655-4d77-845b-bb7b2b4b717a",
   "metadata": {},
   "outputs": [
    {
     "data": {
      "text/plain": [
       "2"
      ]
     },
     "execution_count": 1,
     "metadata": {},
     "output_type": "execute_result"
    }
   ],
   "source": [
    "def diagonalDifference(arr):\n",
    "    n = len(arr)\n",
    "    left = 0\n",
    "    right = 0\n",
    "\n",
    "    for i in range(n):\n",
    "        left += arr[i][i]\n",
    "        right += arr[i][n - 1 - i]\n",
    "\n",
    "    return abs(left - right)\n",
    "\n",
    "\n",
    "# Example usage\n",
    "arr = [[1, 2, 3],\n",
    "       [4, 5, 6],\n",
    "       [9, 8, 9]]\n",
    "\n",
    "r = diagonalDifference(arr)\n",
    "r"
   ]
  },
  {
   "cell_type": "code",
   "execution_count": null,
   "id": "e4e3fd5c-f7ac-4e43-a968-dcee27fd0d8f",
   "metadata": {},
   "outputs": [],
   "source": []
  }
 ],
 "metadata": {
  "kernelspec": {
   "display_name": "Python 3 (ipykernel)",
   "language": "python",
   "name": "python3"
  },
  "language_info": {
   "codemirror_mode": {
    "name": "ipython",
    "version": 3
   },
   "file_extension": ".py",
   "mimetype": "text/x-python",
   "name": "python",
   "nbconvert_exporter": "python",
   "pygments_lexer": "ipython3",
   "version": "3.11.4"
  }
 },
 "nbformat": 4,
 "nbformat_minor": 5
}
