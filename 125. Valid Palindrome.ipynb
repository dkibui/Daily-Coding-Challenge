{
 "cells": [
  {
   "cell_type": "code",
   "execution_count": 3,
   "id": "f7865031-cbbd-4116-9617-ff3d0688df2c",
   "metadata": {},
   "outputs": [
    {
     "data": {
      "text/plain": [
       "True"
      ]
     },
     "execution_count": 3,
     "metadata": {},
     "output_type": "execute_result"
    }
   ],
   "source": [
    "def isPalindrome(s):\n",
    "    new = []\n",
    "    chars = 'abcdefghijklmnopqrstuvwxyz' + '0123456789'\n",
    "    for char in s.lower():\n",
    "        if char in chars:\n",
    "            new.append(char)\n",
    "    return new == list(reversed(new))\n",
    "\n",
    "s = \"A man, a plan, a canal: Panama\"\n",
    "a = isPalindrome(s)\n",
    "a"
   ]
  },
  {
   "cell_type": "code",
   "execution_count": 2,
   "id": "4c318a50-e8a5-45d1-98ba-d3834487ac9b",
   "metadata": {},
   "outputs": [
    {
     "data": {
      "text/plain": [
       "'abcdefghijklmnopqrstuvwxyz'"
      ]
     },
     "execution_count": 2,
     "metadata": {},
     "output_type": "execute_result"
    }
   ],
   "source": [
    "import string\n",
    "string.ascii_lowercase"
   ]
  },
  {
   "cell_type": "code",
   "execution_count": null,
   "id": "1a873c2b-6aaa-496a-a257-f6aede418be4",
   "metadata": {},
   "outputs": [],
   "source": []
  }
 ],
 "metadata": {
  "kernelspec": {
   "display_name": "Python 3 (ipykernel)",
   "language": "python",
   "name": "python3"
  },
  "language_info": {
   "codemirror_mode": {
    "name": "ipython",
    "version": 3
   },
   "file_extension": ".py",
   "mimetype": "text/x-python",
   "name": "python",
   "nbconvert_exporter": "python",
   "pygments_lexer": "ipython3",
   "version": "3.11.4"
  }
 },
 "nbformat": 4,
 "nbformat_minor": 5
}
