{
 "cells": [
  {
   "cell_type": "raw",
   "id": "a0ea511c-9f9b-49eb-938b-9e00deebdcab",
   "metadata": {},
   "source": [
    "This time no story, no theory. The examples below show you how to write function accum:\n",
    "\n",
    "Examples:\n",
    "accum(\"abcd\") -> \"A-Bb-Ccc-Dddd\"\n",
    "accum(\"RqaEzty\") -> \"R-Qq-Aaa-Eeee-Zzzzz-Tttttt-Yyyyyyy\"\n",
    "accum(\"cwAt\") -> \"C-Ww-Aaa-Tttt\"tt\""
   ]
  },
  {
   "cell_type": "code",
   "execution_count": 9,
   "id": "08a52aad-47cb-4a29-942e-7d9c154a3f41",
   "metadata": {},
   "outputs": [],
   "source": [
    "def accum(s):\n",
    "    new = ''\n",
    "    for i, char in enumerate(s):\n",
    "        new = f\"{new}{char.upper()}{char.lower()*(i)}-\"\n",
    "    return new[:-1]\n"
   ]
  },
  {
   "cell_type": "code",
   "execution_count": 8,
   "id": "2e9066e9-fb24-4c3d-bd2f-77e70774a7e1",
   "metadata": {},
   "outputs": [],
   "source": [
    "def accum(s):\n",
    "    return '-'.join(c.upper() + c.lower() * i for i, c in enumerate(s))"
   ]
  },
  {
   "cell_type": "code",
   "execution_count": null,
   "id": "47054d52-5d4d-41b6-90dc-f551d5e0b08e",
   "metadata": {},
   "outputs": [],
   "source": []
  }
 ],
 "metadata": {
  "kernelspec": {
   "display_name": "Python 3 (ipykernel)",
   "language": "python",
   "name": "python3"
  },
  "language_info": {
   "codemirror_mode": {
    "name": "ipython",
    "version": 3
   },
   "file_extension": ".py",
   "mimetype": "text/x-python",
   "name": "python",
   "nbconvert_exporter": "python",
   "pygments_lexer": "ipython3",
   "version": "3.11.4"
  }
 },
 "nbformat": 4,
 "nbformat_minor": 5
}
