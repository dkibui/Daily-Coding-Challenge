{
 "cells": [
  {
   "cell_type": "code",
   "execution_count": 4,
   "id": "a26cfe75-11e1-468f-82ef-c65a1ede8380",
   "metadata": {},
   "outputs": [
    {
     "data": {
      "text/plain": [
       "False"
      ]
     },
     "execution_count": 4,
     "metadata": {},
     "output_type": "execute_result"
    }
   ],
   "source": [
    "import re\n",
    "\n",
    "def alphanumeric(password):\n",
    "    reg = r'^[a-zA-Z0-9]+$'\n",
    "    if re.match(reg, password):\n",
    "        return True\n",
    "    else:\n",
    "        return False\n",
    "\n",
    "\n",
    "pas = \"' + s + '\"\n",
    "alphanumeric(pas)"
   ]
  },
  {
   "cell_type": "code",
   "execution_count": null,
   "id": "98ef6c7b-a5ad-4721-a3f3-4785aa88b0b9",
   "metadata": {},
   "outputs": [],
   "source": [
    "def alphanumeric(string):\n",
    "    abc = 'abcdefghijklmnopqrstuvwxyz'\n",
    "    num = '0123456789'\n",
    "    for i in string:\n",
    "        if i not in abc and i.lower() not in abc and i not in num:\n",
    "            return False\n",
    "    return True"
   ]
  }
 ],
 "metadata": {
  "kernelspec": {
   "display_name": "Python 3 (ipykernel)",
   "language": "python",
   "name": "python3"
  },
  "language_info": {
   "codemirror_mode": {
    "name": "ipython",
    "version": 3
   },
   "file_extension": ".py",
   "mimetype": "text/x-python",
   "name": "python",
   "nbconvert_exporter": "python",
   "pygments_lexer": "ipython3",
   "version": "3.11.4"
  }
 },
 "nbformat": 4,
 "nbformat_minor": 5
}
