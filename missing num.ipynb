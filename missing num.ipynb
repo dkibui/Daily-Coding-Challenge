{
 "cells": [
  {
   "cell_type": "code",
   "execution_count": null,
   "id": "3b8f8fb2-36ba-480b-9131-e0b2ddd0afd0",
   "metadata": {},
   "outputs": [],
   "source": [
    "def missing_num(arr):\n",
    "    arr.sort()\n",
    "    temp = 0\n",
    "    for i, n in enumerate(arr):\n",
    "        if i != 0:\n",
    "            pre = arr[temp]\n",
    "            if pre + 1 == n:\n",
    "                temp += 1\n",
    "            else:\n",
    "                return pre + 1"
   ]
  },
  {
   "cell_type": "code",
   "execution_count": 3,
   "id": "6bc3f248-7c40-4e73-b3eb-2e8c322a19e0",
   "metadata": {},
   "outputs": [],
   "source": [
    "def missing_num(arr):\n",
    "    n = len(arr)\n",
    "    return sum(range(n + 1 + 1)) - sum(arr)"
   ]
  },
  {
   "cell_type": "code",
   "execution_count": null,
   "id": "941b9ecc-1511-4480-a475-b83ee868a466",
   "metadata": {},
   "outputs": [],
   "source": []
  }
 ],
 "metadata": {
  "kernelspec": {
   "display_name": "Python 3 (ipykernel)",
   "language": "python",
   "name": "python3"
  },
  "language_info": {
   "codemirror_mode": {
    "name": "ipython",
    "version": 3
   },
   "file_extension": ".py",
   "mimetype": "text/x-python",
   "name": "python",
   "nbconvert_exporter": "python",
   "pygments_lexer": "ipython3",
   "version": "3.11.4"
  }
 },
 "nbformat": 4,
 "nbformat_minor": 5
}
