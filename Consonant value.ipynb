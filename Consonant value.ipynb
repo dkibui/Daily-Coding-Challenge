{
 "cells": [
  {
   "cell_type": "markdown",
   "id": "9bea5099-8ba5-4181-adf8-64942436e4d8",
   "metadata": {},
   "source": [
    "Given a lowercase string that has alphabetic characters only and no spaces, return the highest value of consonant substrings. Consonants are any letters of the alphabet except \"aeiou\".\n",
    "\n",
    "We shall assign the following values: a = 1, b = 2, c = 3, .... z = 26.\n",
    "\n",
    "For example, for the word \"zodiacs\", let's cross out the vowels. We get: \"z~~o~~d~~ia~~cs\"\n",
    "\n",
    "The consonant substrings are: \"z\", \"d\" and \"cs\" and the values are z = 26, d = 4 and cs = 3 + 19 = 22.The highest is 26.  \n",
    "solve(\"zodiacs\") = 26\n",
    "\n",
    "For the word \"strength\", solve(\"strength\") = 57  \n",
    "The consonant substrings are: \"str\" and \"ngth\" with values \"str\" = 19 + 20 + 18 = 57 and \"ngth\" = 14 + 7 + 20 + 8 = 49. The highest is 57."
   ]
  },
  {
   "cell_type": "code",
   "execution_count": 2,
   "id": "5b473dc5-9359-4c43-92e5-bedbd05a3696",
   "metadata": {},
   "outputs": [],
   "source": [
    "def solve(s):\n",
    "    alphas = \"abcdefghijklmnopqrstuvwxyz\"\n",
    "    cons = \"bcdfghjklmnpqrstvwxyz\"\n",
    "    highest = 0\n",
    "    maxi = 0\n",
    "    for char in s:\n",
    "        if char in cons:\n",
    "            highest += alphas.index(char) + 1\n",
    "        else:\n",
    "            if highest > maxi:\n",
    "                maxi = highest\n",
    "            highest = 0\n",
    "    return max(maxi, highest)"
   ]
  },
  {
   "cell_type": "code",
   "execution_count": null,
   "id": "b4e5f1cc-a097-49f4-8083-ae4f608010fa",
   "metadata": {},
   "outputs": [],
   "source": []
  }
 ],
 "metadata": {
  "kernelspec": {
   "display_name": "Python 3 (ipykernel)",
   "language": "python",
   "name": "python3"
  },
  "language_info": {
   "codemirror_mode": {
    "name": "ipython",
    "version": 3
   },
   "file_extension": ".py",
   "mimetype": "text/x-python",
   "name": "python",
   "nbconvert_exporter": "python",
   "pygments_lexer": "ipython3",
   "version": "3.10.9"
  }
 },
 "nbformat": 4,
 "nbformat_minor": 5
}
