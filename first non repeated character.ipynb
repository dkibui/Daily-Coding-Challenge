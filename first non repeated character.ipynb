{
 "cells": [
  {
   "cell_type": "code",
   "execution_count": 12,
   "id": "99b67607-b0b2-4cac-8894-55487de440ee",
   "metadata": {},
   "outputs": [],
   "source": [
    "def first_non_repeated_character(s):\n",
    "    chars = {}\n",
    "    for char in s:\n",
    "        chars[char] = chars.get(char, 0) + 1\n",
    "    for k, val in chars.items():\n",
    "        if val == 1:\n",
    "            return k\n",
    "    return None\n",
    "\n",
    "s = \"abracacdabrad\"\n",
    "a = first_non_repeated_character(s)\n",
    "a"
   ]
  },
  {
   "cell_type": "code",
   "execution_count": 16,
   "id": "f5269a0a-b281-46d5-bb9c-4b0977e2827a",
   "metadata": {},
   "outputs": [
    {
     "data": {
      "text/plain": [
       "'x'"
      ]
     },
     "execution_count": 16,
     "metadata": {},
     "output_type": "execute_result"
    }
   ],
   "source": [
    "from collections import Counter\n",
    "\n",
    "def first_non_repeated_character(s):\n",
    "    chars = Counter(s)\n",
    "    for k, val in chars.items():\n",
    "        if val == 1:\n",
    "            return k\n",
    "    return None\n",
    "\n",
    "s = \"abxracacdabrad\"\n",
    "a = first_non_repeated_character(s)\n",
    "a"
   ]
  },
  {
   "cell_type": "code",
   "execution_count": 24,
   "id": "18d0fd0c-5ed1-4f13-8075-5740bc277429",
   "metadata": {},
   "outputs": [
    {
     "data": {
      "text/plain": [
       "-1"
      ]
     },
     "execution_count": 24,
     "metadata": {},
     "output_type": "execute_result"
    }
   ],
   "source": [
    "from collections import Counter\n",
    "\n",
    "def first_non_repeated_character(s):\n",
    "    chars = Counter(s)\n",
    "    for key in chars:\n",
    "        if chars[key] == 1:\n",
    "            return key\n",
    "    return -1\n",
    "\n",
    "s = \"\"\n",
    "a = first_non_repeated_character(s)\n",
    "a"
   ]
  },
  {
   "cell_type": "code",
   "execution_count": 33,
   "id": "cb8bdcc0-26b6-40cc-8717-147d8aa9da8f",
   "metadata": {},
   "outputs": [
    {
     "data": {
      "text/plain": [
       "-1"
      ]
     },
     "execution_count": 33,
     "metadata": {},
     "output_type": "execute_result"
    }
   ],
   "source": [
    "def first_non_repeated_character(s):\n",
    "    for char in s:\n",
    "        if s.count(char) == 1:\n",
    "            return char\n",
    "    return None\n",
    "\n",
    "s = \"dabbcadc\"\n",
    "a = first_non_repeated_character(s)\n",
    "a"
   ]
  },
  {
   "cell_type": "code",
   "execution_count": null,
   "id": "266e12a6-4e66-4091-859e-bf27a6015ca5",
   "metadata": {},
   "outputs": [],
   "source": []
  }
 ],
 "metadata": {
  "kernelspec": {
   "display_name": "Python 3 (ipykernel)",
   "language": "python",
   "name": "python3"
  },
  "language_info": {
   "codemirror_mode": {
    "name": "ipython",
    "version": 3
   },
   "file_extension": ".py",
   "mimetype": "text/x-python",
   "name": "python",
   "nbconvert_exporter": "python",
   "pygments_lexer": "ipython3",
   "version": "3.11.4"
  }
 },
 "nbformat": 4,
 "nbformat_minor": 5
}
