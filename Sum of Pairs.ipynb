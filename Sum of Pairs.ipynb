{
 "cells": [
  {
   "cell_type": "markdown",
   "id": "238872cd-7ecc-4110-be4b-fae74ee13f60",
   "metadata": {},
   "source": [
    "**Sum of Pairs**\r\n",
    "\r\n",
    "Given a list of integers and a single sum value, return the first two values (parse from the left please) in order of appearance that add up to form the sum.\r\n",
    "\r\n",
    "If there are two or more pairs with the required sum, the pair whose second element has the smallest index is the solution.\r\n",
    "\r\n",
    "```\r\n",
    "sum_pairs([11, 3, 7, 5], 10)\r\n",
    "3 + 7 = 10\r\n",
    "=> [3, 7]\r\n",
    "\r\n",
    "sum_pairs([4, 3, 2, 3, 4], 6)\r\n",
    "4 + 2 = 6, indices: 0, 2 *\r\n",
    "3 + 3 = 6, indices: 1, 3\r\n",
    "2 + 4 = 6, indices: 2, 4\r\n",
    "The correct answer is the pair whose second value has the smallest index\r\n",
    "=> [4, 2]\r\n",
    "\r\n",
    "sum_pairs([0, 0, -2, 3], 2)\r\n",
    "There are no pairs of values that can be added to produce 2.\r\n",
    "=> None/nil/undefined (Based on the language)\r\n",
    "\r\n",
    "sum_pairs([10, 5, 2, 3, 7, 5], 10)\r\n",
    "5 + 5 = 10, indices: 1, 5\r\n",
    "3 + 7 = 10, indices: 3, 4 *\r\n",
    "The correct answer is the pair whose second value has the smallest index\r\n",
    "=> [3, 7]\r\n",
    "```\r\n",
    "\r\n",
    "Negative numbers and duplicate numbers can and will appear.\r\n",
    "\r\n",
    "NOTE: There will also be lists tested of lengths upwards of 10,000,000 elements. Be sure your code doesn't time out. "
   ]
  },
  {
   "cell_type": "code",
   "execution_count": 16,
   "id": "da78c9ab-74ae-497e-973d-da09b6f12c59",
   "metadata": {},
   "outputs": [
    {
     "data": {
      "text/plain": [
       "[3, 7]"
      ]
     },
     "execution_count": 16,
     "metadata": {},
     "output_type": "execute_result"
    }
   ],
   "source": [
    "def sum_pairs(numbers, s):\n",
    "    seen = set()\n",
    "    for num in numbers:\n",
    "        difference = s - num\n",
    "        if difference in seen:\n",
    "            return [difference, num]\n",
    "        seen.add(num)\n",
    "    return None\n",
    "\n",
    "\n",
    "ints, s = [10, 5, 2, 3, 7, 5], 10\n",
    "a = sum_pairs(ints, s)\n",
    "a"
   ]
  },
  {
   "cell_type": "code",
   "execution_count": null,
   "id": "53808336-76e3-4d01-93bb-f8c8dc7b0eb5",
   "metadata": {},
   "outputs": [],
   "source": []
  }
 ],
 "metadata": {
  "kernelspec": {
   "display_name": "Python 3 (ipykernel)",
   "language": "python",
   "name": "python3"
  },
  "language_info": {
   "codemirror_mode": {
    "name": "ipython",
    "version": 3
   },
   "file_extension": ".py",
   "mimetype": "text/x-python",
   "name": "python",
   "nbconvert_exporter": "python",
   "pygments_lexer": "ipython3",
   "version": "3.11.4"
  }
 },
 "nbformat": 4,
 "nbformat_minor": 5
}
