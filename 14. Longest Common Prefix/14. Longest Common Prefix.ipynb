{
 "cells": [
  {
   "cell_type": "code",
   "execution_count": 36,
   "id": "1d8c8439-5694-4ce2-a3e4-5cbad7fb30a8",
   "metadata": {},
   "outputs": [],
   "source": [
    "def longestCommonPrefix(strs):\n",
    "    # Longest common prefix string\n",
    "    lcp = \"\"\n",
    "    # Base condition\n",
    "    if strs is None or len(strs) == 0:\n",
    "        return lcp\n",
    "    # Find the minimum length string from the array\n",
    "    minimumLength = len(strs[0])\n",
    "    for i in range(1, len(strs)):\n",
    "        minimumLength = min(minimumLength, len(strs[i]))\n",
    "    # Loop until the minimum length\n",
    "    for i in range(0, minimumLength):\n",
    "        # Get the current character from the first string\n",
    "        current = strs[0][i]\n",
    "        # Check if this character is found in all other strings or not\n",
    "        for j in range(0, len(strs)):\n",
    "            if strs[j][i] != current:\n",
    "                return lcp\n",
    "        lcp += current\n",
    "    return lcp"
   ]
  },
  {
   "cell_type": "code",
   "execution_count": null,
   "id": "9f66171a-a16f-42e4-a712-309417ebbacd",
   "metadata": {},
   "outputs": [],
   "source": []
  }
 ],
 "metadata": {
  "kernelspec": {
   "display_name": "Python 3 (ipykernel)",
   "language": "python",
   "name": "python3"
  },
  "language_info": {
   "codemirror_mode": {
    "name": "ipython",
    "version": 3
   },
   "file_extension": ".py",
   "mimetype": "text/x-python",
   "name": "python",
   "nbconvert_exporter": "python",
   "pygments_lexer": "ipython3",
   "version": "3.11.4"
  }
 },
 "nbformat": 4,
 "nbformat_minor": 5
}
